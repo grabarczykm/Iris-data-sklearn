{
 "cells": [
  {
   "cell_type": "code",
   "execution_count": 7,
   "metadata": {},
   "outputs": [],
   "source": [
    "import numpy as np\n"
   ]
  },
  {
   "cell_type": "code",
   "execution_count": null,
   "metadata": {},
   "outputs": [],
   "source": [
    "class Perceptron(object):\n",
    "    \n",
    "    \"\"\" Klasyfikator - perceptron\n",
    "    Parametry\n",
    "    eta - zmiennoprzecinkowy, współczynnik uczenia(od 0 do 1)\n",
    "    n_iter - liczba całkowita, liczba przebiegów po zestawach uczących\n",
    "    \n",
    "    Atrybuty\n",
    "    w_ - jednowymiarowa tablica, wagi po dopasowaniu\n",
    "    errors_ : lista, liczba nieprawidłowych klasyfikacji w każdej epoce \n",
    "    \n",
    "    \"\"\"\n",
    "    def __init__(self, eta=0.01, n_iter=10):\n",
    "        self.eta = eta\n",
    "        self.n_iter = n_iter\n",
    "        \n",
    "    def fit(self, X, y):\n",
    "        \"\"\"Dopasowanie danych uczących.\n",
    "        Parametry\n",
    "        X - tablocopodobny, wymiary = [n_próbek, n_cech], wektory uczące\n",
    "        y - tablicopodobny, wymiary = [n_próbek], wartości docelowe\n",
    "        \n",
    "        Zwraca\n",
    "        self: obiekt\n",
    "        \n",
    "        \"\"\"\n",
    "        self.w_ = np.zeros(1 + X.shape[1])\n",
    "        self.errors_ = []\n",
    "        \n",
    "        for _ in range(self.n_iter):\n",
    "            errors = 0\n",
    "            for xi, target in zip(X,y):\n",
    "                update = self.eta * (target - self.predict(xi))\n",
    "                self.w_[1:] += update * xi\n",
    "                self.w_[0] += update\n",
    "                errors += int(update != 0.0)\n",
    "            self.errors_.append(errors)\n",
    "        return(self)\n",
    "    \n",
    "    def net_input(self, X):\n",
    "        \"\"\" Oblicza całkowite pobudzenie\"\"\"\n",
    "        return(np.dot(X, self.w_[1:] + self.w_[0]))\n",
    "    \n",
    "    def predict(self, X):\n",
    "        \"\"\" Zwraca etykietę klas po obliczeniu funkcji skoku jednostkowego\"\"\"\n",
    "        return(np.where(self.net_input(X) >= 0.0,1, -1))"
   ]
  },
  {
   "cell_type": "code",
   "execution_count": null,
   "metadata": {},
   "outputs": [],
   "source": []
  }
 ],
 "metadata": {
  "kernelspec": {
   "display_name": "Python 3",
   "language": "python",
   "name": "python3"
  },
  "language_info": {
   "codemirror_mode": {
    "name": "ipython",
    "version": 3
   },
   "file_extension": ".py",
   "mimetype": "text/x-python",
   "name": "python",
   "nbconvert_exporter": "python",
   "pygments_lexer": "ipython3",
   "version": "3.6.5"
  }
 },
 "nbformat": 4,
 "nbformat_minor": 2
}
